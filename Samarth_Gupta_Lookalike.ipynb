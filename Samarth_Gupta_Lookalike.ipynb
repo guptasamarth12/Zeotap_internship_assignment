{
 "cells": [
  {
   "cell_type": "code",
   "execution_count": 4,
   "id": "ae906058-9b8f-4d4d-86a1-4b56abd06df3",
   "metadata": {},
   "outputs": [
    {
     "name": "stdout",
     "output_type": "stream",
     "text": [
      "Defaulting to user installation because normal site-packages is not writeable\n",
      "Collecting scikit-learn\n",
      "  Downloading scikit_learn-1.6.1-cp311-cp311-win_amd64.whl.metadata (15 kB)\n",
      "Requirement already satisfied: numpy>=1.19.5 in c:\\users\\samarth\\appdata\\roaming\\python\\python311\\site-packages (from scikit-learn) (2.0.2)\n",
      "Requirement already satisfied: scipy>=1.6.0 in c:\\users\\samarth\\appdata\\roaming\\python\\python311\\site-packages (from scikit-learn) (1.15.1)\n",
      "Collecting joblib>=1.2.0 (from scikit-learn)\n",
      "  Downloading joblib-1.4.2-py3-none-any.whl.metadata (5.4 kB)\n",
      "Collecting threadpoolctl>=3.1.0 (from scikit-learn)\n",
      "  Downloading threadpoolctl-3.5.0-py3-none-any.whl.metadata (13 kB)\n",
      "Downloading scikit_learn-1.6.1-cp311-cp311-win_amd64.whl (11.1 MB)\n",
      "   ---------------------------------------- 0.0/11.1 MB ? eta -:--:--\n",
      "    --------------------------------------- 0.3/11.1 MB ? eta -:--:--\n",
      "    --------------------------------------- 0.3/11.1 MB ? eta -:--:--\n",
      "    --------------------------------------- 0.3/11.1 MB ? eta -:--:--\n",
      "    --------------------------------------- 0.3/11.1 MB ? eta -:--:--\n",
      "   - -------------------------------------- 0.5/11.1 MB 310.6 kB/s eta 0:00:35\n",
      "   --- ------------------------------------ 1.0/11.1 MB 729.5 kB/s eta 0:00:14\n",
      "   ----- ---------------------------------- 1.6/11.1 MB 1.0 MB/s eta 0:00:10\n",
      "   ----- ---------------------------------- 1.6/11.1 MB 1.0 MB/s eta 0:00:10\n",
      "   ----- ---------------------------------- 1.6/11.1 MB 1.0 MB/s eta 0:00:10\n",
      "   ----- ---------------------------------- 1.6/11.1 MB 1.0 MB/s eta 0:00:10\n",
      "   ------ --------------------------------- 1.8/11.1 MB 768.4 kB/s eta 0:00:13\n",
      "   ------------- -------------------------- 3.7/11.1 MB 1.5 MB/s eta 0:00:06\n",
      "   -------------------- ------------------- 5.8/11.1 MB 2.2 MB/s eta 0:00:03\n",
      "   ---------------------- ----------------- 6.3/11.1 MB 2.3 MB/s eta 0:00:03\n",
      "   ---------------------- ----------------- 6.3/11.1 MB 2.3 MB/s eta 0:00:03\n",
      "   ---------------------- ----------------- 6.3/11.1 MB 2.3 MB/s eta 0:00:03\n",
      "   ---------------------- ----------------- 6.3/11.1 MB 2.3 MB/s eta 0:00:03\n",
      "   ----------------------- ---------------- 6.6/11.1 MB 1.8 MB/s eta 0:00:03\n",
      "   -------------------------------- ------- 9.2/11.1 MB 2.4 MB/s eta 0:00:01\n",
      "   ----------------------------------- ---- 10.0/11.1 MB 2.5 MB/s eta 0:00:01\n",
      "   ----------------------------------- ---- 10.0/11.1 MB 2.5 MB/s eta 0:00:01\n",
      "   ----------------------------------- ---- 10.0/11.1 MB 2.5 MB/s eta 0:00:01\n",
      "   ----------------------------------- ---- 10.0/11.1 MB 2.5 MB/s eta 0:00:01\n",
      "   ---------------------------------------- 11.1/11.1 MB 2.3 MB/s eta 0:00:00\n",
      "Downloading joblib-1.4.2-py3-none-any.whl (301 kB)\n",
      "Downloading threadpoolctl-3.5.0-py3-none-any.whl (18 kB)\n",
      "Installing collected packages: threadpoolctl, joblib, scikit-learn\n",
      "Successfully installed joblib-1.4.2 scikit-learn-1.6.1 threadpoolctl-3.5.0\n"
     ]
    },
    {
     "name": "stderr",
     "output_type": "stream",
     "text": [
      "\n",
      "[notice] A new release of pip is available: 24.3.1 -> 25.0\n",
      "[notice] To update, run: python.exe -m pip install --upgrade pip\n"
     ]
    }
   ],
   "source": [
    "!pip install scikit-learn"
   ]
  },
  {
   "cell_type": "markdown",
   "id": "bf2d2388-e09e-4760-8813-f37e482d8d53",
   "metadata": {},
   "source": [
    "### Importing Important Library ###"
   ]
  },
  {
   "cell_type": "code",
   "execution_count": null,
   "id": "d883ecca-ae11-4b98-a729-66084ba98588",
   "metadata": {},
   "outputs": [],
   "source": [
    "import pandas as pd\n",
    "from sklearn.neighbors import NearestNeighbors\n",
    "from sklearn.preprocessing import StandardScaler"
   ]
  },
  {
   "cell_type": "markdown",
   "id": "9a7541f5-d4bb-43fe-958c-9fa844931c50",
   "metadata": {},
   "source": [
    "### Load the data ###"
   ]
  },
  {
   "cell_type": "code",
   "execution_count": null,
   "id": "c2035331-3eea-4e59-bea1-e3eb79149404",
   "metadata": {},
   "outputs": [],
   "source": [
    "# Load datasets\n",
    "customers = pd.read_csv('Customers.csv')\n",
    "transactions = pd.read_csv('Transactions.csv')"
   ]
  },
  {
   "cell_type": "markdown",
   "id": "9634185a-e9eb-4812-8ba9-afda4ff0d62e",
   "metadata": {},
   "source": [
    "### Data preprocessing ###"
   ]
  },
  {
   "cell_type": "code",
   "execution_count": null,
   "id": "4ce6b4b6-d31e-4838-b4be-e5e72d49dea3",
   "metadata": {},
   "outputs": [],
   "source": [
    "# Data Preprocessing\n",
    "transactions['TransactionDate'] = pd.to_datetime(transactions['TransactionDate'])\n",
    "# Merge customers and transactions\n",
    "data = pd.merge(transactions, customers, on='CustomerID', how='left')"
   ]
  },
  {
   "cell_type": "code",
   "execution_count": null,
   "id": "56d609fb-3515-4036-855d-2c3f9b4903ea",
   "metadata": {},
   "outputs": [],
   "source": [
    "# Feature Engineering\n",
    "customer_features = data.groupby('CustomerID').agg(\n",
    "    total_spend=('TotalValue', 'sum'),\n",
    "    transaction_count=('TransactionID', 'count'),\n",
    "    unique_products=('ProductID', 'nunique')\n",
    ").reset_index()\n",
    "\n",
    "# Add customer demographics (e.g., region, signup date)\n",
    "customer_features = pd.merge(customer_features, customers[['CustomerID', 'Region']], on='CustomerID', how='left')"
   ]
  },
  {
   "cell_type": "code",
   "execution_count": null,
   "id": "a0c92330-c6ac-43c2-8be6-7951139a7877",
   "metadata": {},
   "outputs": [],
   "source": [
    "# Normalize features for KNN\n",
    "scaler = StandardScaler()\n",
    "customer_features[['total_spend', 'transaction_count', 'unique_products']] = scaler.fit_transform(\n",
    "    customer_features[['total_spend', 'transaction_count', 'unique_products']]\n",
    ")"
   ]
  },
  {
   "cell_type": "markdown",
   "id": "03757b88-1247-4ff4-976c-a67a6761eb05",
   "metadata": {},
   "source": [
    "### KNN model building ###"
   ]
  },
  {
   "cell_type": "code",
   "execution_count": null,
   "id": "c538c2d9-bc76-4a3e-ab05-12865b53612c",
   "metadata": {},
   "outputs": [],
   "source": [
    "# Create feature matrix for KNN model\n",
    "X = customer_features[['total_spend', 'transaction_count', 'unique_products']].values\n",
    "\n",
    "# Fit the KNN model (finding the nearest neighbors)\n",
    "knn = NearestNeighbors(n_neighbors=4, metric='euclidean')\n",
    "knn.fit(X)"
   ]
  },
  {
   "cell_type": "markdown",
   "id": "36a04642-e877-429f-8b11-cf14ee3963ae",
   "metadata": {},
   "source": [
    "### Similar customer around ###"
   ]
  },
  {
   "cell_type": "code",
   "execution_count": 9,
   "id": "0d97ae21-38ce-445b-972e-effc3f04c1ad",
   "metadata": {},
   "outputs": [],
   "source": [
    "# Get top 3 similar customers for each customer in the list C0001 - C0020\n",
    "lookalike_map = {}\n",
    "for i, customer_id in enumerate(customer_features['CustomerID']):\n",
    "    if f'C{i+1:04d}' in customers['CustomerID'].values:  # Check if the customer is in the list of interest\n",
    "        distances, indices = knn.kneighbors([X[i]], n_neighbors=4)  # Get 4 nearest neighbors (including self)\n",
    "        similar_customers_idx = indices[0][1:]  # Exclude the customer itself\n",
    "        similar_customers = customer_features.iloc[similar_customers_idx]['CustomerID'].values\n",
    "        similarity_scores = 1 / (1 + distances[0][1:])  # Inverse of distance for similarity (scaled to [0,1])\n",
    "        lookalike_map[customer_id] = list(zip(similar_customers, similarity_scores))\n",
    "\n",
    "# Save the result to a CSV file\n",
    "lookalike_df = pd.DataFrame([\n",
    "    {'CustomerID': key, 'Lookalike_Customers': val} for key, val in lookalike_map.items()\n",
    "])\n",
    "lookalike_df.to_csv('Lookalike.csv', index=False)\n"
   ]
  },
  {
   "cell_type": "code",
   "execution_count": 10,
   "id": "a13a999a-2fff-4eef-9a54-48695dce850b",
   "metadata": {},
   "outputs": [
    {
     "data": {
      "text/html": [
       "<div>\n",
       "<style scoped>\n",
       "    .dataframe tbody tr th:only-of-type {\n",
       "        vertical-align: middle;\n",
       "    }\n",
       "\n",
       "    .dataframe tbody tr th {\n",
       "        vertical-align: top;\n",
       "    }\n",
       "\n",
       "    .dataframe thead th {\n",
       "        text-align: right;\n",
       "    }\n",
       "</style>\n",
       "<table border=\"1\" class=\"dataframe\">\n",
       "  <thead>\n",
       "    <tr style=\"text-align: right;\">\n",
       "      <th></th>\n",
       "      <th>CustomerID</th>\n",
       "      <th>Lookalike_Customers</th>\n",
       "    </tr>\n",
       "  </thead>\n",
       "  <tbody>\n",
       "    <tr>\n",
       "      <th>0</th>\n",
       "      <td>C0001</td>\n",
       "      <td>[(C0137, 0.9881245646606442), (C0152, 0.983145...</td>\n",
       "    </tr>\n",
       "    <tr>\n",
       "      <th>1</th>\n",
       "      <td>C0002</td>\n",
       "      <td>[(C0029, 0.959646968784458), (C0199, 0.9400701...</td>\n",
       "    </tr>\n",
       "    <tr>\n",
       "      <th>2</th>\n",
       "      <td>C0003</td>\n",
       "      <td>[(C0178, 0.9910279499495853), (C0035, 0.929917...</td>\n",
       "    </tr>\n",
       "    <tr>\n",
       "      <th>3</th>\n",
       "      <td>C0004</td>\n",
       "      <td>[(C0021, 0.9656437882981692), (C0173, 0.801352...</td>\n",
       "    </tr>\n",
       "    <tr>\n",
       "      <th>4</th>\n",
       "      <td>C0005</td>\n",
       "      <td>[(C0073, 0.9858172660791746), (C0159, 0.979547...</td>\n",
       "    </tr>\n",
       "    <tr>\n",
       "      <th>...</th>\n",
       "      <td>...</td>\n",
       "      <td>...</td>\n",
       "    </tr>\n",
       "    <tr>\n",
       "      <th>194</th>\n",
       "      <td>C0196</td>\n",
       "      <td>[(C0168, 0.6775820119641452), (C0079, 0.617113...</td>\n",
       "    </tr>\n",
       "    <tr>\n",
       "      <th>195</th>\n",
       "      <td>C0197</td>\n",
       "      <td>[(C0131, 0.9917699154396973), (C0112, 0.983399...</td>\n",
       "    </tr>\n",
       "    <tr>\n",
       "      <th>196</th>\n",
       "      <td>C0198</td>\n",
       "      <td>[(C0128, 0.9201492898419034), (C0015, 0.890126...</td>\n",
       "    </tr>\n",
       "    <tr>\n",
       "      <th>197</th>\n",
       "      <td>C0199</td>\n",
       "      <td>[(C0031, 0.9859236013803505), (C0192, 0.951371...</td>\n",
       "    </tr>\n",
       "    <tr>\n",
       "      <th>198</th>\n",
       "      <td>C0200</td>\n",
       "      <td>[(C0018, 0.9874413758054548), (C0187, 0.925965...</td>\n",
       "    </tr>\n",
       "  </tbody>\n",
       "</table>\n",
       "<p>199 rows × 2 columns</p>\n",
       "</div>"
      ],
      "text/plain": [
       "    CustomerID                                Lookalike_Customers\n",
       "0        C0001  [(C0137, 0.9881245646606442), (C0152, 0.983145...\n",
       "1        C0002  [(C0029, 0.959646968784458), (C0199, 0.9400701...\n",
       "2        C0003  [(C0178, 0.9910279499495853), (C0035, 0.929917...\n",
       "3        C0004  [(C0021, 0.9656437882981692), (C0173, 0.801352...\n",
       "4        C0005  [(C0073, 0.9858172660791746), (C0159, 0.979547...\n",
       "..         ...                                                ...\n",
       "194      C0196  [(C0168, 0.6775820119641452), (C0079, 0.617113...\n",
       "195      C0197  [(C0131, 0.9917699154396973), (C0112, 0.983399...\n",
       "196      C0198  [(C0128, 0.9201492898419034), (C0015, 0.890126...\n",
       "197      C0199  [(C0031, 0.9859236013803505), (C0192, 0.951371...\n",
       "198      C0200  [(C0018, 0.9874413758054548), (C0187, 0.925965...\n",
       "\n",
       "[199 rows x 2 columns]"
      ]
     },
     "execution_count": 10,
     "metadata": {},
     "output_type": "execute_result"
    }
   ],
   "source": [
    "lookalike_df"
   ]
  },
  {
   "cell_type": "code",
   "execution_count": null,
   "id": "3775f045-f26e-4638-b538-77d3a0a2f69a",
   "metadata": {},
   "outputs": [],
   "source": []
  }
 ],
 "metadata": {
  "kernelspec": {
   "display_name": "Python 3 (ipykernel)",
   "language": "python",
   "name": "python3"
  },
  "language_info": {
   "codemirror_mode": {
    "name": "ipython",
    "version": 3
   },
   "file_extension": ".py",
   "mimetype": "text/x-python",
   "name": "python",
   "nbconvert_exporter": "python",
   "pygments_lexer": "ipython3",
   "version": "3.11.5"
  }
 },
 "nbformat": 4,
 "nbformat_minor": 5
}
